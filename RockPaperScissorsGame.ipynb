{
 "cells": [
  {
   "cell_type": "markdown",
   "metadata": {},
   "source": [
    "# Individual Project Theme 1\n",
    "## Rock Paper Scissors Game"
   ]
  },
  {
   "cell_type": "markdown",
   "metadata": {},
   "source": [
    "**How to use this notebook and complete the project?**\n",
    "\n",
    "1. You need to answer all required questions by answering in the markdown cell.\n",
    "2. Read the instruction and fill in the #todo sections.\n",
    "3. Run all the cells to store the results of each codes.\n",
    "4. Save this notebook by clicking on `File`, then click `Download as`, choose `HTML`.\n",
    "5. Push this notebook to your GitHub reporitory by creating a new repository, named `AIP_IndividualProject`. Set this repository as `Private` until the day of your submission, which is on *29th June 2019, 1.30 PM*.\n"
   ]
  },
  {
   "cell_type": "markdown",
   "metadata": {},
   "source": [
    "**Introduction**\n",
    "\n",
    "Have you ever played any rock, paper, scissors game? In Japanese language it is called as \"じゃんけん\". How about in your home country?\n",
    "In Malaysia, we have two versions of rock, paper, scissors game. The other version, we use rock, bird and water. "
   ]
  },
  {
   "cell_type": "markdown",
   "metadata": {},
   "source": [
    "**Question 1**: \n",
    "\n",
    "What is your home country version of rock, paper, scissors game looks like?"
   ]
  },
  {
   "cell_type": "markdown",
   "metadata": {},
   "source": [
    "**Answer**:\n",
    "caiquan(石头剪刀布)"
   ]
  },
  {
   "cell_type": "markdown",
   "metadata": {},
   "source": [
    "In this project, you are going to make a Rock, Paper, Scissors game and play against the computer.\n",
    "\n",
    "Rules: You and the computer both choose rock, paper or scissors. The winner is decided by these rules:\n",
    "\n",
    "- Rock vs Scissors (Rock win)\n",
    "- Paper vs Rock (Paper win)\n",
    "- Scissors vs Paper (Scissors win)"
   ]
  },
  {
   "cell_type": "markdown",
   "metadata": {},
   "source": [
    "**Step 1**\n",
    "\n",
    "Import all the necessary libraries."
   ]
  },
  {
   "cell_type": "code",
   "execution_count": 1,
   "metadata": {},
   "outputs": [],
   "source": [
    "# You are going to generate random numbers for this game, so you need to import randint from random library\n",
    "from random import randint"
   ]
  },
  {
   "cell_type": "markdown",
   "metadata": {},
   "source": [
    "**Question 2:**\n",
    "\n",
    "Draw a flowchart to write the program of this game. You may draw a flowchart by using *powerpoint*, then save it as a picture in `.jpg` or `.png`. Then, use this command to the *Answer* column below.\n",
    "`<img src=_____.jpg>`"
   ]
  },
  {
   "cell_type": "markdown",
   "metadata": {},
   "source": [
    "**Answer**:\n",
    "<img src=1.png>"
   ]
  },
  {
   "cell_type": "markdown",
   "metadata": {},
   "source": [
    "**Step 2**\n",
    "\n",
    "First, let the player choose Rock, Paper or Scissors.\n",
    "#TODO fill in the code below"
   ]
  },
  {
   "cell_type": "code",
   "execution_count": 4,
   "metadata": {},
   "outputs": [
    {
     "name": "stdout",
     "output_type": "stream",
     "text": [
      "{'r': 'rock', 'p': 'paper', 's': 'scissors'}\n",
      "Please input your choice:p\n"
     ]
    }
   ],
   "source": [
    "#TODO\n",
    "\n",
    "# input a player's choice, either rock(r), paper(p) or scissors(s)\n",
    "Game_info={\"r\":\"rock\",\"p\":\"paper\",\"s\":\"scissors\"}\n",
    "print(Game_info)\n",
    "player=input(\"Please input your choice:\")"
   ]
  },
  {
   "cell_type": "markdown",
   "metadata": {},
   "source": [
    "**Step 2**\n",
    "\n",
    "#TODO\n",
    "\n",
    "Write a function that has `if` statement to `print` what player chose."
   ]
  },
  {
   "cell_type": "code",
   "execution_count": 5,
   "metadata": {},
   "outputs": [
    {
     "name": "stdout",
     "output_type": "stream",
     "text": [
      "paper\n"
     ]
    }
   ],
   "source": [
    "#TODO \n",
    "def player_choose(player):\n",
    "    if player == 'r':\n",
    "        return \"rock\"\n",
    "    elif player ==  'p':\n",
    "        return \"paper\"\n",
    "    else:\n",
    "        return \"scissors\"\n",
    "\n",
    "player_chose = player_choose(player)\n",
    "print(player_chose)"
   ]
  },
  {
   "cell_type": "markdown",
   "metadata": {},
   "source": [
    "**Step 3**\n",
    "\n",
    "#TODO\n",
    "Now it is the computer's turn. `randint` function is used to generate a random number to decide between rock, paper and scissors.\n",
    "Write a function that contain the `if` statement to shows and decide what computer chose."
   ]
  },
  {
   "cell_type": "code",
   "execution_count": 6,
   "metadata": {},
   "outputs": [
    {
     "name": "stdout",
     "output_type": "stream",
     "text": [
      "paper\n"
     ]
    }
   ],
   "source": [
    "#TODO \n",
    "import random\n",
    "chosen = random.randint(1,3)\n",
    "def computer_choose(chosen):\n",
    "    if chosen==1:\n",
    "        return\"rock\"\n",
    "    elif chosen==2:\n",
    "        return\"paper\"\n",
    "    else:\n",
    "        return\"scissors\"\n",
    "\n",
    "computer = computer_choose(chosen)\n",
    "print(computer)"
   ]
  },
  {
   "cell_type": "markdown",
   "metadata": {},
   "source": [
    "**Step 4**\n",
    "\n",
    "#TODO\n",
    "By using `if` function and rules stated above, determine who is going to win the game. It will be either the computer or the player."
   ]
  },
  {
   "cell_type": "code",
   "execution_count": 7,
   "metadata": {},
   "outputs": [
    {
     "name": "stdout",
     "output_type": "stream",
     "text": [
      "paper  vs  paper\n",
      "The computer choice:paper，You choice:paper\n",
      "IN a Draw！\n",
      "None\n"
     ]
    }
   ],
   "source": [
    "#TODO\n",
    "\n",
    "def determine_winner(player,computer):\n",
    "    if ((player == 's' and computer == 2) or (player == 'p' and computer == 1) or (player  == 'r' and computer == 3)):\n",
    "        print(\"The computer choice:%s，You choice:%s\"%(computer,player))\n",
    "        print(\"Congratuation,YOU WIN ！\")\n",
    "    elif (player == computer):\n",
    "        print(\"The computer choice:%s，You choice:%s\"%(computer,player))\n",
    "        print(\"IN a Draw！\")\n",
    "    else:\n",
    "        print(\"The computer choice:%s，You choice:%s\"%(computer,player))\n",
    "        print(\"Sorry,YOU LOST！\")\n",
    "print(player_chose, \" vs \", computer)\n",
    "print(determine_winner(player_chose,computer))"
   ]
  },
  {
   "cell_type": "markdown",
   "metadata": {},
   "source": [
    "**Bonus**\n",
    "\n",
    "#TODO\n",
    "For example, if the player want to play the game for few times that player wants, and winner is determined based on how many wins they will get. If it is a draw, it is necessary to find a winner again.\n",
    "\n",
    "Create a for loop based on the above situation."
   ]
  },
  {
   "cell_type": "code",
   "execution_count": 16,
   "metadata": {},
   "outputs": [
    {
     "name": "stdout",
     "output_type": "stream",
     "text": [
      "The computer choice:paper，You choice:paper\n",
      "IN a Draw！\n",
      "Number of times to play:\n",
      "5\n",
      "computer wins1round\n",
      "---1round finished---\n",
      "computer wins2round\n",
      "---2round finished---\n",
      "computer wins3round\n",
      "---3round finished---\n",
      "computer wins4round\n",
      "---4round finished---\n",
      "computer wins5round\n",
      "---5round finished---\n",
      "Computer WIN\n"
     ]
    }
   ],
   "source": [
    "#TODO\n",
    "\n",
    "#write another if function to determine who wins overall.\n",
    "\n",
    "Computer_win = 0\n",
    "Player_win = 0\n",
    "deuce=0\n",
    "a=determine_winner(player_chose,computer)\n",
    "print(\"Number of times to play:\")\n",
    "N = int(input())\n",
    "for i in range(N):\n",
    "    if a ==\"Congratuation,YOU WIN ！\":\n",
    "        print('player wins{}round'.format(i + 1))\n",
    "        Player_win += 1\n",
    "    elif a ==\"IN a Draw!\":\n",
    "        print('in a draw{}round'.format(i + 1))\n",
    "        deuce += 1\n",
    "    else :\n",
    "        print('computer wins{}round'.format(i +  1))\n",
    "        Computer_win += 1\n",
    "        print('---{}round finished---'.format(i + 1))\n",
    "if Computer_win > Player_win :\n",
    "        print('Computer WIN')\n",
    "        \n",
    "elif Computer_win < Player_win:\n",
    "        print('Player WIN')\n",
    "        \n",
    "else:\n",
    "        print('Is a Draw')\n",
    "       "
   ]
  },
  {
   "cell_type": "raw",
   "metadata": {},
   "source": []
  },
  {
   "cell_type": "markdown",
   "metadata": {},
   "source": [
    "**Question 3**:\n",
    "\n",
    "What is the difficulty of creating this game by using python?"
   ]
  },
  {
   "cell_type": "markdown",
   "metadata": {},
   "source": [
    "**Answer**:\n"
   ]
  },
  {
   "cell_type": "code",
   "execution_count": null,
   "metadata": {},
   "outputs": [],
   "source": [
    "Format adjustment"
   ]
  }
 ],
 "metadata": {
  "kernelspec": {
   "display_name": "Python 3",
   "language": "python",
   "name": "python3"
  },
  "language_info": {
   "codemirror_mode": {
    "name": "ipython",
    "version": 3
   },
   "file_extension": ".py",
   "mimetype": "text/x-python",
   "name": "python",
   "nbconvert_exporter": "python",
   "pygments_lexer": "ipython3",
   "version": "3.7.3"
  }
 },
 "nbformat": 4,
 "nbformat_minor": 2
}
